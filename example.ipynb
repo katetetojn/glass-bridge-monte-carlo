{
 "cells": [
  {
   "cell_type": "code",
   "execution_count": 1,
   "metadata": {},
   "outputs": [],
   "source": [
    "from gbmc import GlassBridge"
   ]
  },
  {
   "cell_type": "code",
   "execution_count": 2,
   "metadata": {},
   "outputs": [
    {
     "name": "stdout",
     "output_type": "stream",
     "text": [
      "[attempt 1] player 1 attempts panel 1\n",
      "[success]\n",
      "[attempt 2] player 1 attempts panel 2\n",
      "[success]\n",
      "[attempt 3] player 1 attempts panel 3\n",
      "[failure]\n",
      "[attempt 4] player 2 attempts panel 4\n",
      "[failure]\n",
      "[attempt 5] player 3 attempts panel 5\n",
      "[success]\n",
      "[attempt 6] player 3 attempts panel 6\n",
      "[success]\n",
      "[attempt 7] player 3 attempts panel 7\n",
      "[success]\n",
      "[attempt 8] player 3 attempts panel 8\n",
      "[failure]\n",
      "[attempt 9] player 4 attempts panel 9\n",
      "[failure]\n",
      "[attempt 10] player 5 attempts panel 10\n",
      "[success]\n",
      "[attempt 11] player 5 attempts panel 11\n",
      "[failure]\n",
      "[attempt 12] player 6 attempts panel 12\n",
      "[success]\n",
      "[attempt 13] player 6 attempts panel 13\n",
      "[failure]\n",
      "[attempt 14] player 7 attempts panel 14\n",
      "[success]\n",
      "[attempt 15] player 7 attempts panel 15\n",
      "[failure]\n",
      "[attempt 16] player 8 attempts panel 16\n",
      "[failure]\n",
      "[attempt 17] player 9 attempts panel 17\n",
      "[failure]\n",
      "[attempt 18] player 10 attempts panel 18\n",
      "[success]\n",
      "[game over] 7 players survived (10, 11, 12, 13, 14, 15, 16)\n"
     ]
    }
   ],
   "source": [
    "gb = GlassBridge()\n",
    "gb.run()"
   ]
  },
  {
   "cell_type": "code",
   "execution_count": 3,
   "metadata": {},
   "outputs": [],
   "source": [
    "N = 1_000_000\n",
    "bridge_size = 18\n",
    "num_player = 16\n",
    "\n",
    "survivals = [0] * N\n",
    "attempts = [0] * N\n",
    "surviving_players = [None] * N\n",
    "\n",
    "for i in range(N):\n",
    "    gb = GlassBridge(bridge_size=bridge_size, num_player=num_player, log_enabled=False)\n",
    "    gb.run()\n",
    "    survivals[i] = gb.num_player_alive\n",
    "    attempts[i] = gb.num_attempt\n",
    "    surviving_players[i] = [player.id for player in gb.get_surviving_players()]"
   ]
  },
  {
   "cell_type": "code",
   "execution_count": 4,
   "metadata": {},
   "outputs": [
    {
     "name": "stdout",
     "output_type": "stream",
     "text": [
      "avg # of survivals = 6.999054\n",
      "avg # of attempts = 17.999848\n"
     ]
    }
   ],
   "source": [
    "print(f\"avg # of survivals = {sum(survivals) / N}\")\n",
    "print(f\"avg # of attempts = {sum(attempts) / N}\")"
   ]
  },
  {
   "cell_type": "code",
   "execution_count": 5,
   "metadata": {},
   "outputs": [
    {
     "name": "stdout",
     "output_type": "stream",
     "text": [
      "where k = # of surviving players\n",
      "P(k >= 1) = 0.999315\tP(k < 1) = 0.000685\n",
      "P(k >= 2) = 0.996254\tP(k < 2) = 0.003746\n",
      "P(k >= 3) = 0.984685\tP(k < 3) = 0.015315\n",
      "P(k >= 4) = 0.951811\tP(k < 4) = 0.048189\n",
      "P(k >= 5) = 0.880779\tP(k < 5) = 0.119221\n",
      "P(k >= 6) = 0.759902\tP(k < 6) = 0.240098\n",
      "P(k >= 7) = 0.592713\tP(k < 7) = 0.407287\n",
      "P(k >= 8) = 0.407072\tP(k < 8) = 0.592928\n",
      "P(k >= 9) = 0.239870\tP(k < 9) = 0.760130\n",
      "P(k >= 10) = 0.118656\tP(k < 10) = 0.881344\n",
      "P(k >= 11) = 0.047997\tP(k < 11) = 0.952003\n",
      "P(k >= 12) = 0.015361\tP(k < 12) = 0.984639\n",
      "P(k >= 13) = 0.003863\tP(k < 13) = 0.996137\n",
      "P(k >= 14) = 0.000696\tP(k < 14) = 0.999304\n",
      "P(k >= 15) = 0.000075\tP(k < 15) = 0.999925\n",
      "P(k >= 16) = 0.000005\tP(k < 16) = 0.999995\n"
     ]
    }
   ],
   "source": [
    "def prob_at_least_k_surviving_players(k):\n",
    "    return sum([1 for s in survivals if s >= k]) / N\n",
    "\n",
    "print(\"where k = # of surviving players\")\n",
    "for k in range(1, num_player + 1):\n",
    "    prob_k = prob_at_least_k_surviving_players(k)\n",
    "    print(f\"P(k >= {k}) = {prob_k:.6f}\\tP(k < {k}) = {1 - prob_k:.6f}\")"
   ]
  },
  {
   "cell_type": "code",
   "execution_count": 6,
   "metadata": {},
   "outputs": [
    {
     "name": "stdout",
     "output_type": "stream",
     "text": [
      "where S_i = player i survives, S_i^c = player i does not survive\n",
      "P(S_1) = 0.000005\tP(S_1^c) = 0.999995\n",
      "P(S_2) = 0.000075\tP(S_2^c) = 0.999925\n",
      "P(S_3) = 0.000696\tP(S_3^c) = 0.999304\n",
      "P(S_4) = 0.003863\tP(S_4^c) = 0.996137\n",
      "P(S_5) = 0.015361\tP(S_5^c) = 0.984639\n",
      "P(S_6) = 0.047997\tP(S_6^c) = 0.952003\n",
      "P(S_7) = 0.118656\tP(S_7^c) = 0.881344\n",
      "P(S_8) = 0.239870\tP(S_8^c) = 0.760130\n",
      "P(S_9) = 0.407072\tP(S_9^c) = 0.592928\n",
      "P(S_10) = 0.592713\tP(S_10^c) = 0.407287\n",
      "P(S_11) = 0.759902\tP(S_11^c) = 0.240098\n",
      "P(S_12) = 0.880779\tP(S_12^c) = 0.119221\n",
      "P(S_13) = 0.951811\tP(S_13^c) = 0.048189\n",
      "P(S_14) = 0.984685\tP(S_14^c) = 0.015315\n",
      "P(S_15) = 0.996254\tP(S_15^c) = 0.003746\n",
      "P(S_16) = 0.999315\tP(S_16^c) = 0.000685\n"
     ]
    }
   ],
   "source": [
    "def prob_player_i_survives(i):\n",
    "    return sum([1 for sp in surviving_players if i in sp]) / N\n",
    "\n",
    "print(\"where S_i = player i survives, S_i^c = player i does not survive\")\n",
    "for i in range(1, num_player + 1):\n",
    "    print(f\"P(S_{i}) = {prob_player_i_survives(i):.6f}\\tP(S_{i}^c) = {1 - prob_player_i_survives(i):.6f}\")"
   ]
  }
 ],
 "metadata": {
  "kernelspec": {
   "display_name": ".venv",
   "language": "python",
   "name": "python3"
  },
  "language_info": {
   "codemirror_mode": {
    "name": "ipython",
    "version": 3
   },
   "file_extension": ".py",
   "mimetype": "text/x-python",
   "name": "python",
   "nbconvert_exporter": "python",
   "pygments_lexer": "ipython3",
   "version": "3.12.8"
  }
 },
 "nbformat": 4,
 "nbformat_minor": 2
}
