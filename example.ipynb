{
 "cells": [
  {
   "cell_type": "code",
   "execution_count": 2,
   "metadata": {},
   "outputs": [],
   "source": [
    "from gbmc import GlassBridge"
   ]
  },
  {
   "cell_type": "code",
   "execution_count": 3,
   "metadata": {},
   "outputs": [
    {
     "name": "stdout",
     "output_type": "stream",
     "text": [
      "[attempt 1] player 1 attempts panel 1\n",
      "[success]\n",
      "[attempt 2] player 1 attempts panel 2\n",
      "[success]\n",
      "[attempt 3] player 1 attempts panel 3\n",
      "[success]\n",
      "[attempt 4] player 1 attempts panel 4\n",
      "[success]\n",
      "[attempt 5] player 1 attempts panel 5\n",
      "[success]\n",
      "[attempt 6] player 1 attempts panel 6\n",
      "[failure]\n",
      "[attempt 7] player 2 attempts panel 7\n",
      "[failure]\n",
      "[attempt 8] player 3 attempts panel 8\n",
      "[success]\n",
      "[attempt 9] player 3 attempts panel 9\n",
      "[success]\n",
      "[attempt 10] player 3 attempts panel 10\n",
      "[success]\n",
      "[attempt 11] player 3 attempts panel 11\n",
      "[success]\n",
      "[attempt 12] player 3 attempts panel 12\n",
      "[failure]\n",
      "[attempt 13] player 4 attempts panel 13\n",
      "[success]\n",
      "[attempt 14] player 4 attempts panel 14\n",
      "[failure]\n",
      "[attempt 15] player 5 attempts panel 15\n",
      "[success]\n",
      "[attempt 16] player 5 attempts panel 16\n",
      "[failure]\n",
      "[attempt 17] player 6 attempts panel 17\n",
      "[failure]\n",
      "[attempt 18] player 7 attempts panel 18\n",
      "[failure]\n",
      "[game over] 9 players survived (8, 9, 10, 11, 12, 13, 14, 15, 16)\n"
     ]
    }
   ],
   "source": [
    "gb = GlassBridge()\n",
    "gb.run()"
   ]
  },
  {
   "cell_type": "code",
   "execution_count": 4,
   "metadata": {},
   "outputs": [],
   "source": [
    "N = 1_000_000\n",
    "bridge_size = 18\n",
    "num_player = 16\n",
    "\n",
    "survivals = [0] * N\n",
    "attempts = [0] * N\n",
    "surviving_players = [None] * N\n",
    "\n",
    "for i in range(N):\n",
    "    gb = GlassBridge(bridge_size=bridge_size, num_player=num_player, log_enabled=False)\n",
    "    gb.run()\n",
    "    survivals[i] = gb.num_player_alive\n",
    "    attempts[i] = gb.num_attempt\n",
    "    surviving_players[i] = [player.id for player in gb.get_surviving_players()]"
   ]
  },
  {
   "cell_type": "code",
   "execution_count": 5,
   "metadata": {},
   "outputs": [
    {
     "name": "stdout",
     "output_type": "stream",
     "text": [
      "avg # of survivals = 7.00152\n"
     ]
    }
   ],
   "source": [
    "print(f\"avg # of survivals = {sum(survivals) / N}\")"
   ]
  },
  {
   "cell_type": "code",
   "execution_count": 6,
   "metadata": {},
   "outputs": [
    {
     "name": "stdout",
     "output_type": "stream",
     "text": [
      "where k = # of surviving players\n",
      "P(k >= 1) = 0.999350\tP(k < 1) = 0.000650\n",
      "P(k >= 2) = 0.996189\tP(k < 2) = 0.003811\n",
      "P(k >= 3) = 0.984360\tP(k < 3) = 0.015640\n",
      "P(k >= 4) = 0.951677\tP(k < 4) = 0.048323\n",
      "P(k >= 5) = 0.881019\tP(k < 5) = 0.118981\n",
      "P(k >= 6) = 0.759753\tP(k < 6) = 0.240247\n",
      "P(k >= 7) = 0.592996\tP(k < 7) = 0.407004\n",
      "P(k >= 8) = 0.407557\tP(k < 8) = 0.592443\n",
      "P(k >= 9) = 0.241016\tP(k < 9) = 0.758984\n",
      "P(k >= 10) = 0.119258\tP(k < 10) = 0.880742\n",
      "P(k >= 11) = 0.048316\tP(k < 11) = 0.951684\n",
      "P(k >= 12) = 0.015456\tP(k < 12) = 0.984544\n",
      "P(k >= 13) = 0.003825\tP(k < 13) = 0.996175\n",
      "P(k >= 14) = 0.000677\tP(k < 14) = 0.999323\n",
      "P(k >= 15) = 0.000069\tP(k < 15) = 0.999931\n",
      "P(k >= 16) = 0.000002\tP(k < 16) = 0.999998\n"
     ]
    }
   ],
   "source": [
    "def prob_at_least_k_surviving_players(k):\n",
    "    return sum([1 for s in survivals if s >= k]) / N\n",
    "\n",
    "print(\"where k = # of surviving players\")\n",
    "for k in range(1, num_player + 1):\n",
    "    prob_k = prob_at_least_k_surviving_players(k)\n",
    "    print(f\"P(k >= {k}) = {prob_k:.6f}\\tP(k < {k}) = {1 - prob_k:.6f}\")"
   ]
  },
  {
   "cell_type": "code",
   "execution_count": 7,
   "metadata": {},
   "outputs": [
    {
     "name": "stdout",
     "output_type": "stream",
     "text": [
      "where S_i = player i survives, S_i^c = player i does not survive\n",
      "P(S_1) = 0.000002\tP(S_1^c) = 0.999998\n",
      "P(S_2) = 0.000069\tP(S_2^c) = 0.999931\n",
      "P(S_3) = 0.000677\tP(S_3^c) = 0.999323\n",
      "P(S_4) = 0.003825\tP(S_4^c) = 0.996175\n",
      "P(S_5) = 0.015456\tP(S_5^c) = 0.984544\n",
      "P(S_6) = 0.048316\tP(S_6^c) = 0.951684\n",
      "P(S_7) = 0.119258\tP(S_7^c) = 0.880742\n",
      "P(S_8) = 0.241016\tP(S_8^c) = 0.758984\n",
      "P(S_9) = 0.407557\tP(S_9^c) = 0.592443\n",
      "P(S_10) = 0.592996\tP(S_10^c) = 0.407004\n",
      "P(S_11) = 0.759753\tP(S_11^c) = 0.240247\n",
      "P(S_12) = 0.881019\tP(S_12^c) = 0.118981\n",
      "P(S_13) = 0.951677\tP(S_13^c) = 0.048323\n",
      "P(S_14) = 0.984360\tP(S_14^c) = 0.015640\n",
      "P(S_15) = 0.996189\tP(S_15^c) = 0.003811\n",
      "P(S_16) = 0.999350\tP(S_16^c) = 0.000650\n"
     ]
    }
   ],
   "source": [
    "def prob_player_i_survives(i):\n",
    "    return sum([1 for sp in surviving_players if i in sp]) / N\n",
    "\n",
    "print(\"where S_i = player i survives, S_i^c = player i does not survive\")\n",
    "for i in range(1, num_player + 1):\n",
    "    print(f\"P(S_{i}) = {prob_player_i_survives(i):.6f}\\tP(S_{i}^c) = {1 - prob_player_i_survives(i):.6f}\")"
   ]
  }
 ],
 "metadata": {
  "kernelspec": {
   "display_name": ".venv",
   "language": "python",
   "name": "python3"
  },
  "language_info": {
   "codemirror_mode": {
    "name": "ipython",
    "version": 3
   },
   "file_extension": ".py",
   "mimetype": "text/x-python",
   "name": "python",
   "nbconvert_exporter": "python",
   "pygments_lexer": "ipython3",
   "version": "3.12.8"
  }
 },
 "nbformat": 4,
 "nbformat_minor": 2
}
